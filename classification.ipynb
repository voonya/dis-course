{
 "cells": [
  {
   "cell_type": "code",
   "execution_count": null,
   "metadata": {},
   "outputs": [],
   "source": [
    "import pandas as pd\n",
    "from ydata_profiling import ProfileReport"
   ]
  },
  {
   "cell_type": "code",
   "execution_count": null,
   "metadata": {},
   "outputs": [],
   "source": [
    "data = pd.read_csv('./data/messages_source_url_merged_lemma_train.csv')\n",
    "data.loc[1]"
   ]
  },
  {
   "cell_type": "code",
   "execution_count": null,
   "metadata": {},
   "outputs": [],
   "source": [
    "# profile = ProfileReport(data, title=\"Profiling Report\")\n",
    "# profile"
   ]
  },
  {
   "cell_type": "code",
   "execution_count": null,
   "metadata": {},
   "outputs": [],
   "source": [
    "from sklearn.model_selection import train_test_split\n",
    "from sklearn.preprocessing import LabelEncoder, StandardScaler\n",
    "from sklearn.feature_extraction.text import TfidfVectorizer\n",
    "import numpy\n",
    "\n",
    "def prepare_X(prevData):\n",
    "    prevData['text_lemmatized'].fillna('', inplace=True)\n",
    "\n",
    "    additional_features = prevData[['impressions', 'reactions', 'shares', 'comments']].fillna(0)\n",
    "\n",
    "    tfidf_vectorizer = TfidfVectorizer(max_features=1000)\n",
    "    X_Text = tfidf_vectorizer.fit_transform(prevData['text_lemmatized']).toarray()\n",
    "\n",
    "    scaler = StandardScaler()\n",
    "    X_additional = scaler.fit_transform(additional_features)\n",
    "\n",
    "    X = numpy.hstack([X_Text, X_additional])\n",
    "\n",
    "    return X\n",
    "\n",
    "label_encoder = LabelEncoder()\n",
    "\n",
    "X = prepare_X(data)\n",
    "data['source_category_encoded'] = label_encoder.fit_transform(data['source_category'])\n",
    "\n",
    "y = data['source_category_encoded']\n"
   ]
  },
  {
   "cell_type": "code",
   "execution_count": null,
   "metadata": {},
   "outputs": [],
   "source": [
    "X_over, X_10, Y_over, Y_10, idx_over, idx_10 = train_test_split(X, y, data.index,test_size=0.99, random_state=42)\n",
    "X_train, X_temp, y_train, y_temp,idx_train, idx_temp = train_test_split(X_10, Y_10, idx_10, test_size=0.3, random_state=42)\n",
    "X_val, X_test, y_val, y_test,idx_val, idx_test = train_test_split(X_temp, y_temp, idx_temp, test_size=0.5, random_state=42)\n"
   ]
  },
  {
   "cell_type": "code",
   "execution_count": null,
   "metadata": {},
   "outputs": [],
   "source": [
    "len(Y_10)"
   ]
  },
  {
   "cell_type": "code",
   "execution_count": null,
   "metadata": {},
   "outputs": [],
   "source": [
    "from sklearn.ensemble import RandomForestClassifier\n",
    "from sklearn.neighbors import KNeighborsClassifier\n",
    "\n",
    "# Train Random Forest\n",
    "rf_model = RandomForestClassifier(random_state=42)\n",
    "rf_model.fit(X_train, y_train)\n",
    "\n",
    "# Train K-Nearest Neighbors\n",
    "knn_model = KNeighborsClassifier()\n",
    "knn_model.fit(X_train, y_train)\n"
   ]
  },
  {
   "cell_type": "code",
   "execution_count": null,
   "metadata": {},
   "outputs": [],
   "source": [
    "from sklearn.metrics import classification_report, f1_score\n",
    "import matplotlib.pyplot as plt\n",
    "\n",
    "# Predictions\n",
    "rf_preds = rf_model.predict(X_val)\n",
    "knn_preds = knn_model.predict(X_val)\n",
    "\n",
    "target_names = [str(cls) for cls in label_encoder.classes_]\n",
    "\n",
    "# Evaluation\n",
    "print(\"Random Forest Classification Report\")\n",
    "print(classification_report(y_val, rf_preds, target_names=target_names))\n",
    "print(\"Random Forest F1 Score:\", f1_score(y_val, rf_preds, average='weighted'))\n",
    "\n",
    "print(\"\\nK-Nearest Neighbors Classification Report\")\n",
    "print(classification_report(y_val, knn_preds, target_names=target_names))\n",
    "print(\"K-Nearest Neighbors F1 Score:\", f1_score(y_val, knn_preds, average='weighted'))\n"
   ]
  },
  {
   "cell_type": "code",
   "execution_count": null,
   "metadata": {},
   "outputs": [],
   "source": [
    "predicted_category_names = label_encoder.inverse_transform(rf_preds)\n",
    "\n",
    "data.loc[idx_val, 'predicted_category'] = predicted_category_names\n"
   ]
  },
  {
   "cell_type": "code",
   "execution_count": null,
   "metadata": {},
   "outputs": [],
   "source": [
    "data.loc[idx_val].to_csv('./data/validation_messages_with_predicted_category.csv', index=False)"
   ]
  },
  {
   "cell_type": "code",
   "execution_count": null,
   "metadata": {},
   "outputs": [],
   "source": [
    "test_data = pd.read_csv('./data/messages_source_url_merged_lemma_test.csv')\n",
    "\n",
    "\n",
    "X_test_data = prepare_X(test_data)\n",
    "rf_preds_test = rf_model.predict(X_test_data)\n",
    "\n",
    "predicted_category_names_test = label_encoder.inverse_transform(rf_preds_test)\n",
    "\n",
    "test_data['predicted_category'] = predicted_category_names_test\n"
   ]
  },
  {
   "cell_type": "code",
   "execution_count": null,
   "metadata": {},
   "outputs": [],
   "source": [
    "len(predicted_category_names_test)"
   ]
  },
  {
   "cell_type": "code",
   "execution_count": null,
   "metadata": {},
   "outputs": [],
   "source": [
    "test_data.loc[1]"
   ]
  },
  {
   "cell_type": "code",
   "execution_count": null,
   "metadata": {},
   "outputs": [],
   "source": [
    "test_data.to_csv('./data/validation_messages_with_predicted_category.csv', index=False)"
   ]
  }
 ],
 "metadata": {
  "kernelspec": {
   "display_name": "Python 3",
   "language": "python",
   "name": "python3"
  },
  "language_info": {
   "codemirror_mode": {
    "name": "ipython",
    "version": 3
   },
   "file_extension": ".py",
   "mimetype": "text/x-python",
   "name": "python",
   "nbconvert_exporter": "python",
   "pygments_lexer": "ipython3",
   "version": "3.11.8"
  },
  "orig_nbformat": 4
 },
 "nbformat": 4,
 "nbformat_minor": 2
}
