{
 "cells": [
  {
   "cell_type": "code",
   "execution_count": null,
   "metadata": {},
   "outputs": [],
   "source": [
    "import pandas as pd\n",
    "from ydata_profiling import ProfileReport"
   ]
  },
  {
   "cell_type": "code",
   "execution_count": null,
   "metadata": {},
   "outputs": [],
   "source": [
    "data = pd.read_csv('./data/messages_source_url_merged.csv')\n",
    "data.iloc[0]"
   ]
  },
  {
   "cell_type": "code",
   "execution_count": null,
   "metadata": {},
   "outputs": [],
   "source": [
    "# profile = ProfileReport(data, title=\"Profiling Report\")\n",
    "# profile"
   ]
  },
  {
   "cell_type": "code",
   "execution_count": null,
   "metadata": {},
   "outputs": [],
   "source": [
    "from sklearn.model_selection import train_test_split\n",
    "from sklearn.preprocessing import LabelEncoder\n",
    "from sklearn.feature_extraction.text import TfidfVectorizer\n",
    "\n",
    "label_encoder = LabelEncoder()\n",
    "data['source_category_encoded'] = label_encoder.fit_transform(data['source_category'])\n",
    "data['text_cleared'].fillna('', inplace=True)\n",
    "\n",
    "tfidf_vectorizer = TfidfVectorizer(max_features=500)\n",
    "X = tfidf_vectorizer.fit_transform(data['text_cleared']).toarray()\n",
    "y = data['source_category_encoded']"
   ]
  },
  {
   "cell_type": "code",
   "execution_count": null,
   "metadata": {},
   "outputs": [],
   "source": [
    "X_over, X_10, Y_over, Y_10 = train_test_split(X, y, test_size=0.1, random_state=42)\n",
    "X_train, X_temp, y_train, y_temp = train_test_split(X_10, Y_10, test_size=0.3, random_state=42)\n",
    "X_val, X_test, y_val, y_test = train_test_split(X_temp, y_temp, test_size=0.5, random_state=42)\n"
   ]
  },
  {
   "cell_type": "code",
   "execution_count": null,
   "metadata": {},
   "outputs": [],
   "source": [
    "len(y_val)"
   ]
  },
  {
   "cell_type": "code",
   "execution_count": null,
   "metadata": {},
   "outputs": [],
   "source": [
    "from sklearn.ensemble import RandomForestClassifier\n",
    "from sklearn.neighbors import KNeighborsClassifier\n",
    "\n",
    "# Train Random Forest\n",
    "rf_model = RandomForestClassifier(random_state=42)\n",
    "rf_model.fit(X_train, y_train)\n",
    "\n",
    "# Train K-Nearest Neighbors\n",
    "knn_model = KNeighborsClassifier()\n",
    "knn_model.fit(X_train, y_train)\n"
   ]
  },
  {
   "cell_type": "code",
   "execution_count": null,
   "metadata": {},
   "outputs": [],
   "source": [
    "from sklearn.metrics import classification_report, f1_score\n",
    "import matplotlib.pyplot as plt\n",
    "\n",
    "# Predictions\n",
    "rf_preds = rf_model.predict(X_val)\n",
    "knn_preds = knn_model.predict(X_val)\n",
    "\n",
    "target_names = [str(cls) for cls in label_encoder.classes_]\n",
    "\n",
    "# Evaluation\n",
    "print(\"Random Forest Classification Report\")\n",
    "print(classification_report(y_val, rf_preds, target_names=target_names))\n",
    "print(\"Random Forest F1 Score:\", f1_score(y_val, rf_preds, average='weighted'))\n",
    "\n",
    "print(\"\\nK-Nearest Neighbors Classification Report\")\n",
    "print(classification_report(y_val, knn_preds, target_names=target_names))\n",
    "print(\"K-Nearest Neighbors F1 Score:\", f1_score(y_val, knn_preds, average='weighted'))\n"
   ]
  }
 ],
 "metadata": {
  "kernelspec": {
   "display_name": "Python 3",
   "language": "python",
   "name": "python3"
  },
  "language_info": {
   "codemirror_mode": {
    "name": "ipython",
    "version": 3
   },
   "file_extension": ".py",
   "mimetype": "text/x-python",
   "name": "python",
   "nbconvert_exporter": "python",
   "pygments_lexer": "ipython3",
   "version": "3.11.8"
  },
  "orig_nbformat": 4
 },
 "nbformat": 4,
 "nbformat_minor": 2
}
